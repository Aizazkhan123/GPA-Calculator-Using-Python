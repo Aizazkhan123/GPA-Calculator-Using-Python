{
 "cells": [
  {
   "cell_type": "markdown",
   "id": "polish-afternoon",
   "metadata": {},
   "source": [
    "# Python GPA Calculator"
   ]
  },
  {
   "cell_type": "code",
   "execution_count": 2,
   "id": "asian-notification",
   "metadata": {},
   "outputs": [
    {
     "name": "stdout",
     "output_type": "stream",
     "text": [
      "Enter number of  subject 5\n",
      "For Subjact #  1\n",
      "Enter the credit hrs 4\n",
      "Enter the letter grade  B\n",
      "For Subjact #  2\n",
      "Enter the credit hrs 4\n",
      "Enter the letter grade B\n",
      "For Subjact #  3\n",
      "Enter the credit hrs 3\n",
      "Enter the letter grade B\n",
      "For Subjact #  4\n",
      "Enter the credit hrs 3\n",
      "Enter the letter grade B\n",
      "For Subjact #  5\n",
      "Enter the credit hrs 3\n",
      "Enter the letter grade B\n",
      "Your GPA is : 2.2941176470588234\n"
     ]
    }
   ],
   "source": [
    "class GpaCalculator():\n",
    "    '''Declare the variables'''\n",
    "    count = 0\n",
    "    '''use for to loop '''\n",
    "    hrs   = 0\n",
    "    numberofsubject =0\n",
    "    totalhours = 0\n",
    "    totalPoints = 0.0\n",
    "    gpa = 0.0\n",
    "    '''Prompt the user for the number of subject taking'''\n",
    "    numberofsubject = int(input(\"Enter number of  subject \"))\n",
    "\n",
    "    for count in range(count, numberofsubject):\n",
    "        '''This is to keep track of the number of classes (Optional)'''\n",
    "        print(\"For Subjact # \", count+1)\n",
    "\n",
    "        '''Prompt user for number of number of credit hours per class'''\n",
    "        hrs = int(input(\"Enter the credit hrs \"))\n",
    "\n",
    "        '''Prompt user to enter the letter grade'''\n",
    "        grade = input(\"Enter the letter grade \")\n",
    "\n",
    "        '''Use if statement to check the grade and increment points and total hours'''\n",
    "\n",
    "        if grade == 'A' or grade == 'a':\n",
    "            totalPoints = totalPoints + (hrs * 4)\n",
    "            totalhours = totalhours + hrs\n",
    "        elif grade == 'B' or grade == 'b':\n",
    "            totalPoints += (hrs * 3.0)\n",
    "            totalhours += hrs\n",
    "        elif grade == 'C' or grade == 'c':\n",
    "            totalPoints += (hrs * 2.0)\n",
    "            totalhours += hrs\n",
    "        elif grade == 'D' or grade == 'd':\n",
    "            totalPoints += (hrs * 1.0)\n",
    "            totalhours += hrs\n",
    "            '''If not A,B, C, D then it must be F. You can write validation to check in other lettes'''\n",
    "        else:\n",
    "            totalPoints += (hrs * 0.0)\n",
    "            totalhours += hrs\n",
    "    '''Calculate GPA based on the total points and total hours'''\n",
    "    gpa = totalPoints / totalhours\n",
    "    print(\"Your GPA is :\", gpa)\n",
    "\n",
    "def main():\n",
    "    gpa = GpaCalculator()\n",
    "\n",
    "if __name__ == '__main__':main()"
   ]
  },
  {
   "cell_type": "markdown",
   "id": "expressed-validation",
   "metadata": {},
   "source": []
  }
 ],
 "metadata": {
  "kernelspec": {
   "display_name": "Python 3",
   "language": "python",
   "name": "python3"
  },
  "language_info": {
   "codemirror_mode": {
    "name": "ipython",
    "version": 3
   },
   "file_extension": ".py",
   "mimetype": "text/x-python",
   "name": "python",
   "nbconvert_exporter": "python",
   "pygments_lexer": "ipython3",
   "version": "3.7.6"
  }
 },
 "nbformat": 4,
 "nbformat_minor": 5
}
